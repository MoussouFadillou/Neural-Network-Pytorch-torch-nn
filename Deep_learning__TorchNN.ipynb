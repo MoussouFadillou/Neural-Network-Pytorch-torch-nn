{
  "nbformat": 4,
  "nbformat_minor": 0,
  "metadata": {
    "colab": {
      "name": "Mory_Moussou_AMMI_DL_Assignment_TorchNN.ipynb",
      "provenance": [],
      "collapsed_sections": [],
      "toc_visible": true
    },
    "kernelspec": {
      "name": "python3",
      "display_name": "Python 3"
    },
    "language_info": {
      "name": "python"
    },
    "accelerator": "GPU",
    "widgets": {
      "application/vnd.jupyter.widget-state+json": {
        "917b977afc4848c0afa6a041ee35d9ca": {
          "model_module": "@jupyter-widgets/controls",
          "model_name": "HBoxModel",
          "state": {
            "_view_name": "HBoxView",
            "_dom_classes": [],
            "_model_name": "HBoxModel",
            "_view_module": "@jupyter-widgets/controls",
            "_model_module_version": "1.5.0",
            "_view_count": null,
            "_view_module_version": "1.5.0",
            "box_style": "",
            "layout": "IPY_MODEL_4637aba9f14b4d01ac859b54a80c196d",
            "_model_module": "@jupyter-widgets/controls",
            "children": [
              "IPY_MODEL_1561590a10ba45d8854f3046e6e023c1",
              "IPY_MODEL_e159d292857b47f7bdb7b3f09d1199b4"
            ]
          }
        },
        "4637aba9f14b4d01ac859b54a80c196d": {
          "model_module": "@jupyter-widgets/base",
          "model_name": "LayoutModel",
          "state": {
            "_view_name": "LayoutView",
            "grid_template_rows": null,
            "right": null,
            "justify_content": null,
            "_view_module": "@jupyter-widgets/base",
            "overflow": null,
            "_model_module_version": "1.2.0",
            "_view_count": null,
            "flex_flow": null,
            "width": null,
            "min_width": null,
            "border": null,
            "align_items": null,
            "bottom": null,
            "_model_module": "@jupyter-widgets/base",
            "top": null,
            "grid_column": null,
            "overflow_y": null,
            "overflow_x": null,
            "grid_auto_flow": null,
            "grid_area": null,
            "grid_template_columns": null,
            "flex": null,
            "_model_name": "LayoutModel",
            "justify_items": null,
            "grid_row": null,
            "max_height": null,
            "align_content": null,
            "visibility": null,
            "align_self": null,
            "height": null,
            "min_height": null,
            "padding": null,
            "grid_auto_rows": null,
            "grid_gap": null,
            "max_width": null,
            "order": null,
            "_view_module_version": "1.2.0",
            "grid_template_areas": null,
            "object_position": null,
            "object_fit": null,
            "grid_auto_columns": null,
            "margin": null,
            "display": null,
            "left": null
          }
        },
        "1561590a10ba45d8854f3046e6e023c1": {
          "model_module": "@jupyter-widgets/controls",
          "model_name": "FloatProgressModel",
          "state": {
            "_view_name": "ProgressView",
            "style": "IPY_MODEL_8762a616766d41059b723ff298b52566",
            "_dom_classes": [],
            "description": "",
            "_model_name": "FloatProgressModel",
            "bar_style": "success",
            "max": 26421880,
            "_view_module": "@jupyter-widgets/controls",
            "_model_module_version": "1.5.0",
            "value": 26421880,
            "_view_count": null,
            "_view_module_version": "1.5.0",
            "orientation": "horizontal",
            "min": 0,
            "description_tooltip": null,
            "_model_module": "@jupyter-widgets/controls",
            "layout": "IPY_MODEL_79bc288da6cf46b39db5a32f5aee5b07"
          }
        },
        "e159d292857b47f7bdb7b3f09d1199b4": {
          "model_module": "@jupyter-widgets/controls",
          "model_name": "HTMLModel",
          "state": {
            "_view_name": "HTMLView",
            "style": "IPY_MODEL_209d4a0837c24096be94800d720d222c",
            "_dom_classes": [],
            "description": "",
            "_model_name": "HTMLModel",
            "placeholder": "​",
            "_view_module": "@jupyter-widgets/controls",
            "_model_module_version": "1.5.0",
            "value": " 26422272/? [34:07&lt;00:00, 12906.92it/s]",
            "_view_count": null,
            "_view_module_version": "1.5.0",
            "description_tooltip": null,
            "_model_module": "@jupyter-widgets/controls",
            "layout": "IPY_MODEL_682d8d6973434d97a306f20fabe9a40a"
          }
        },
        "8762a616766d41059b723ff298b52566": {
          "model_module": "@jupyter-widgets/controls",
          "model_name": "ProgressStyleModel",
          "state": {
            "_view_name": "StyleView",
            "_model_name": "ProgressStyleModel",
            "description_width": "initial",
            "_view_module": "@jupyter-widgets/base",
            "_model_module_version": "1.5.0",
            "_view_count": null,
            "_view_module_version": "1.2.0",
            "bar_color": null,
            "_model_module": "@jupyter-widgets/controls"
          }
        },
        "79bc288da6cf46b39db5a32f5aee5b07": {
          "model_module": "@jupyter-widgets/base",
          "model_name": "LayoutModel",
          "state": {
            "_view_name": "LayoutView",
            "grid_template_rows": null,
            "right": null,
            "justify_content": null,
            "_view_module": "@jupyter-widgets/base",
            "overflow": null,
            "_model_module_version": "1.2.0",
            "_view_count": null,
            "flex_flow": null,
            "width": null,
            "min_width": null,
            "border": null,
            "align_items": null,
            "bottom": null,
            "_model_module": "@jupyter-widgets/base",
            "top": null,
            "grid_column": null,
            "overflow_y": null,
            "overflow_x": null,
            "grid_auto_flow": null,
            "grid_area": null,
            "grid_template_columns": null,
            "flex": null,
            "_model_name": "LayoutModel",
            "justify_items": null,
            "grid_row": null,
            "max_height": null,
            "align_content": null,
            "visibility": null,
            "align_self": null,
            "height": null,
            "min_height": null,
            "padding": null,
            "grid_auto_rows": null,
            "grid_gap": null,
            "max_width": null,
            "order": null,
            "_view_module_version": "1.2.0",
            "grid_template_areas": null,
            "object_position": null,
            "object_fit": null,
            "grid_auto_columns": null,
            "margin": null,
            "display": null,
            "left": null
          }
        },
        "209d4a0837c24096be94800d720d222c": {
          "model_module": "@jupyter-widgets/controls",
          "model_name": "DescriptionStyleModel",
          "state": {
            "_view_name": "StyleView",
            "_model_name": "DescriptionStyleModel",
            "description_width": "",
            "_view_module": "@jupyter-widgets/base",
            "_model_module_version": "1.5.0",
            "_view_count": null,
            "_view_module_version": "1.2.0",
            "_model_module": "@jupyter-widgets/controls"
          }
        },
        "682d8d6973434d97a306f20fabe9a40a": {
          "model_module": "@jupyter-widgets/base",
          "model_name": "LayoutModel",
          "state": {
            "_view_name": "LayoutView",
            "grid_template_rows": null,
            "right": null,
            "justify_content": null,
            "_view_module": "@jupyter-widgets/base",
            "overflow": null,
            "_model_module_version": "1.2.0",
            "_view_count": null,
            "flex_flow": null,
            "width": null,
            "min_width": null,
            "border": null,
            "align_items": null,
            "bottom": null,
            "_model_module": "@jupyter-widgets/base",
            "top": null,
            "grid_column": null,
            "overflow_y": null,
            "overflow_x": null,
            "grid_auto_flow": null,
            "grid_area": null,
            "grid_template_columns": null,
            "flex": null,
            "_model_name": "LayoutModel",
            "justify_items": null,
            "grid_row": null,
            "max_height": null,
            "align_content": null,
            "visibility": null,
            "align_self": null,
            "height": null,
            "min_height": null,
            "padding": null,
            "grid_auto_rows": null,
            "grid_gap": null,
            "max_width": null,
            "order": null,
            "_view_module_version": "1.2.0",
            "grid_template_areas": null,
            "object_position": null,
            "object_fit": null,
            "grid_auto_columns": null,
            "margin": null,
            "display": null,
            "left": null
          }
        },
        "e647fc6e342e4053a1a49ef75b18e8c4": {
          "model_module": "@jupyter-widgets/controls",
          "model_name": "HBoxModel",
          "state": {
            "_view_name": "HBoxView",
            "_dom_classes": [],
            "_model_name": "HBoxModel",
            "_view_module": "@jupyter-widgets/controls",
            "_model_module_version": "1.5.0",
            "_view_count": null,
            "_view_module_version": "1.5.0",
            "box_style": "",
            "layout": "IPY_MODEL_d3bd5212db8040cd9de0d0fee2ff79f0",
            "_model_module": "@jupyter-widgets/controls",
            "children": [
              "IPY_MODEL_9dd5e299ddef405891a07af115872890",
              "IPY_MODEL_68055c14ba1643aa8b227a36d360a8e8"
            ]
          }
        },
        "d3bd5212db8040cd9de0d0fee2ff79f0": {
          "model_module": "@jupyter-widgets/base",
          "model_name": "LayoutModel",
          "state": {
            "_view_name": "LayoutView",
            "grid_template_rows": null,
            "right": null,
            "justify_content": null,
            "_view_module": "@jupyter-widgets/base",
            "overflow": null,
            "_model_module_version": "1.2.0",
            "_view_count": null,
            "flex_flow": null,
            "width": null,
            "min_width": null,
            "border": null,
            "align_items": null,
            "bottom": null,
            "_model_module": "@jupyter-widgets/base",
            "top": null,
            "grid_column": null,
            "overflow_y": null,
            "overflow_x": null,
            "grid_auto_flow": null,
            "grid_area": null,
            "grid_template_columns": null,
            "flex": null,
            "_model_name": "LayoutModel",
            "justify_items": null,
            "grid_row": null,
            "max_height": null,
            "align_content": null,
            "visibility": null,
            "align_self": null,
            "height": null,
            "min_height": null,
            "padding": null,
            "grid_auto_rows": null,
            "grid_gap": null,
            "max_width": null,
            "order": null,
            "_view_module_version": "1.2.0",
            "grid_template_areas": null,
            "object_position": null,
            "object_fit": null,
            "grid_auto_columns": null,
            "margin": null,
            "display": null,
            "left": null
          }
        },
        "9dd5e299ddef405891a07af115872890": {
          "model_module": "@jupyter-widgets/controls",
          "model_name": "FloatProgressModel",
          "state": {
            "_view_name": "ProgressView",
            "style": "IPY_MODEL_e54b8d42e5ed49e6a322b810a5d51777",
            "_dom_classes": [],
            "description": "",
            "_model_name": "FloatProgressModel",
            "bar_style": "success",
            "max": 29515,
            "_view_module": "@jupyter-widgets/controls",
            "_model_module_version": "1.5.0",
            "value": 29515,
            "_view_count": null,
            "_view_module_version": "1.5.0",
            "orientation": "horizontal",
            "min": 0,
            "description_tooltip": null,
            "_model_module": "@jupyter-widgets/controls",
            "layout": "IPY_MODEL_ac1f8be3b703493482532e6d5116d4b0"
          }
        },
        "68055c14ba1643aa8b227a36d360a8e8": {
          "model_module": "@jupyter-widgets/controls",
          "model_name": "HTMLModel",
          "state": {
            "_view_name": "HTMLView",
            "style": "IPY_MODEL_7c21f5bd1bc94dffa6756195d5a7d7f7",
            "_dom_classes": [],
            "description": "",
            "_model_name": "HTMLModel",
            "placeholder": "​",
            "_view_module": "@jupyter-widgets/controls",
            "_model_module_version": "1.5.0",
            "value": " 29696/? [00:01&lt;00:00, 24083.27it/s]",
            "_view_count": null,
            "_view_module_version": "1.5.0",
            "description_tooltip": null,
            "_model_module": "@jupyter-widgets/controls",
            "layout": "IPY_MODEL_d54c372619464821827f452ce819d0c9"
          }
        },
        "e54b8d42e5ed49e6a322b810a5d51777": {
          "model_module": "@jupyter-widgets/controls",
          "model_name": "ProgressStyleModel",
          "state": {
            "_view_name": "StyleView",
            "_model_name": "ProgressStyleModel",
            "description_width": "initial",
            "_view_module": "@jupyter-widgets/base",
            "_model_module_version": "1.5.0",
            "_view_count": null,
            "_view_module_version": "1.2.0",
            "bar_color": null,
            "_model_module": "@jupyter-widgets/controls"
          }
        },
        "ac1f8be3b703493482532e6d5116d4b0": {
          "model_module": "@jupyter-widgets/base",
          "model_name": "LayoutModel",
          "state": {
            "_view_name": "LayoutView",
            "grid_template_rows": null,
            "right": null,
            "justify_content": null,
            "_view_module": "@jupyter-widgets/base",
            "overflow": null,
            "_model_module_version": "1.2.0",
            "_view_count": null,
            "flex_flow": null,
            "width": null,
            "min_width": null,
            "border": null,
            "align_items": null,
            "bottom": null,
            "_model_module": "@jupyter-widgets/base",
            "top": null,
            "grid_column": null,
            "overflow_y": null,
            "overflow_x": null,
            "grid_auto_flow": null,
            "grid_area": null,
            "grid_template_columns": null,
            "flex": null,
            "_model_name": "LayoutModel",
            "justify_items": null,
            "grid_row": null,
            "max_height": null,
            "align_content": null,
            "visibility": null,
            "align_self": null,
            "height": null,
            "min_height": null,
            "padding": null,
            "grid_auto_rows": null,
            "grid_gap": null,
            "max_width": null,
            "order": null,
            "_view_module_version": "1.2.0",
            "grid_template_areas": null,
            "object_position": null,
            "object_fit": null,
            "grid_auto_columns": null,
            "margin": null,
            "display": null,
            "left": null
          }
        },
        "7c21f5bd1bc94dffa6756195d5a7d7f7": {
          "model_module": "@jupyter-widgets/controls",
          "model_name": "DescriptionStyleModel",
          "state": {
            "_view_name": "StyleView",
            "_model_name": "DescriptionStyleModel",
            "description_width": "",
            "_view_module": "@jupyter-widgets/base",
            "_model_module_version": "1.5.0",
            "_view_count": null,
            "_view_module_version": "1.2.0",
            "_model_module": "@jupyter-widgets/controls"
          }
        },
        "d54c372619464821827f452ce819d0c9": {
          "model_module": "@jupyter-widgets/base",
          "model_name": "LayoutModel",
          "state": {
            "_view_name": "LayoutView",
            "grid_template_rows": null,
            "right": null,
            "justify_content": null,
            "_view_module": "@jupyter-widgets/base",
            "overflow": null,
            "_model_module_version": "1.2.0",
            "_view_count": null,
            "flex_flow": null,
            "width": null,
            "min_width": null,
            "border": null,
            "align_items": null,
            "bottom": null,
            "_model_module": "@jupyter-widgets/base",
            "top": null,
            "grid_column": null,
            "overflow_y": null,
            "overflow_x": null,
            "grid_auto_flow": null,
            "grid_area": null,
            "grid_template_columns": null,
            "flex": null,
            "_model_name": "LayoutModel",
            "justify_items": null,
            "grid_row": null,
            "max_height": null,
            "align_content": null,
            "visibility": null,
            "align_self": null,
            "height": null,
            "min_height": null,
            "padding": null,
            "grid_auto_rows": null,
            "grid_gap": null,
            "max_width": null,
            "order": null,
            "_view_module_version": "1.2.0",
            "grid_template_areas": null,
            "object_position": null,
            "object_fit": null,
            "grid_auto_columns": null,
            "margin": null,
            "display": null,
            "left": null
          }
        },
        "c6e1dbe15d0f45c38e29f77d812f22a9": {
          "model_module": "@jupyter-widgets/controls",
          "model_name": "HBoxModel",
          "state": {
            "_view_name": "HBoxView",
            "_dom_classes": [],
            "_model_name": "HBoxModel",
            "_view_module": "@jupyter-widgets/controls",
            "_model_module_version": "1.5.0",
            "_view_count": null,
            "_view_module_version": "1.5.0",
            "box_style": "",
            "layout": "IPY_MODEL_45c9de447c2148acb7ac6075e3293caa",
            "_model_module": "@jupyter-widgets/controls",
            "children": [
              "IPY_MODEL_87f6612d36bb45909fdf9b8c60e38a1c",
              "IPY_MODEL_a1ee1572a2424ff28ad34520f855442d"
            ]
          }
        },
        "45c9de447c2148acb7ac6075e3293caa": {
          "model_module": "@jupyter-widgets/base",
          "model_name": "LayoutModel",
          "state": {
            "_view_name": "LayoutView",
            "grid_template_rows": null,
            "right": null,
            "justify_content": null,
            "_view_module": "@jupyter-widgets/base",
            "overflow": null,
            "_model_module_version": "1.2.0",
            "_view_count": null,
            "flex_flow": null,
            "width": null,
            "min_width": null,
            "border": null,
            "align_items": null,
            "bottom": null,
            "_model_module": "@jupyter-widgets/base",
            "top": null,
            "grid_column": null,
            "overflow_y": null,
            "overflow_x": null,
            "grid_auto_flow": null,
            "grid_area": null,
            "grid_template_columns": null,
            "flex": null,
            "_model_name": "LayoutModel",
            "justify_items": null,
            "grid_row": null,
            "max_height": null,
            "align_content": null,
            "visibility": null,
            "align_self": null,
            "height": null,
            "min_height": null,
            "padding": null,
            "grid_auto_rows": null,
            "grid_gap": null,
            "max_width": null,
            "order": null,
            "_view_module_version": "1.2.0",
            "grid_template_areas": null,
            "object_position": null,
            "object_fit": null,
            "grid_auto_columns": null,
            "margin": null,
            "display": null,
            "left": null
          }
        },
        "87f6612d36bb45909fdf9b8c60e38a1c": {
          "model_module": "@jupyter-widgets/controls",
          "model_name": "FloatProgressModel",
          "state": {
            "_view_name": "ProgressView",
            "style": "IPY_MODEL_1255b61d959040c6ab02bfb9c37e497c",
            "_dom_classes": [],
            "description": "",
            "_model_name": "FloatProgressModel",
            "bar_style": "success",
            "max": 4422102,
            "_view_module": "@jupyter-widgets/controls",
            "_model_module_version": "1.5.0",
            "value": 4422102,
            "_view_count": null,
            "_view_module_version": "1.5.0",
            "orientation": "horizontal",
            "min": 0,
            "description_tooltip": null,
            "_model_module": "@jupyter-widgets/controls",
            "layout": "IPY_MODEL_fb7b92715c8c4e5f86adabaf11ef7145"
          }
        },
        "a1ee1572a2424ff28ad34520f855442d": {
          "model_module": "@jupyter-widgets/controls",
          "model_name": "HTMLModel",
          "state": {
            "_view_name": "HTMLView",
            "style": "IPY_MODEL_6a4578d7185b427385f94739038e4081",
            "_dom_classes": [],
            "description": "",
            "_model_name": "HTMLModel",
            "placeholder": "​",
            "_view_module": "@jupyter-widgets/controls",
            "_model_module_version": "1.5.0",
            "value": " 4422656/? [08:23&lt;00:00, 8786.58it/s]",
            "_view_count": null,
            "_view_module_version": "1.5.0",
            "description_tooltip": null,
            "_model_module": "@jupyter-widgets/controls",
            "layout": "IPY_MODEL_35c6a9b268df46659217aa74b4fefa72"
          }
        },
        "1255b61d959040c6ab02bfb9c37e497c": {
          "model_module": "@jupyter-widgets/controls",
          "model_name": "ProgressStyleModel",
          "state": {
            "_view_name": "StyleView",
            "_model_name": "ProgressStyleModel",
            "description_width": "initial",
            "_view_module": "@jupyter-widgets/base",
            "_model_module_version": "1.5.0",
            "_view_count": null,
            "_view_module_version": "1.2.0",
            "bar_color": null,
            "_model_module": "@jupyter-widgets/controls"
          }
        },
        "fb7b92715c8c4e5f86adabaf11ef7145": {
          "model_module": "@jupyter-widgets/base",
          "model_name": "LayoutModel",
          "state": {
            "_view_name": "LayoutView",
            "grid_template_rows": null,
            "right": null,
            "justify_content": null,
            "_view_module": "@jupyter-widgets/base",
            "overflow": null,
            "_model_module_version": "1.2.0",
            "_view_count": null,
            "flex_flow": null,
            "width": null,
            "min_width": null,
            "border": null,
            "align_items": null,
            "bottom": null,
            "_model_module": "@jupyter-widgets/base",
            "top": null,
            "grid_column": null,
            "overflow_y": null,
            "overflow_x": null,
            "grid_auto_flow": null,
            "grid_area": null,
            "grid_template_columns": null,
            "flex": null,
            "_model_name": "LayoutModel",
            "justify_items": null,
            "grid_row": null,
            "max_height": null,
            "align_content": null,
            "visibility": null,
            "align_self": null,
            "height": null,
            "min_height": null,
            "padding": null,
            "grid_auto_rows": null,
            "grid_gap": null,
            "max_width": null,
            "order": null,
            "_view_module_version": "1.2.0",
            "grid_template_areas": null,
            "object_position": null,
            "object_fit": null,
            "grid_auto_columns": null,
            "margin": null,
            "display": null,
            "left": null
          }
        },
        "6a4578d7185b427385f94739038e4081": {
          "model_module": "@jupyter-widgets/controls",
          "model_name": "DescriptionStyleModel",
          "state": {
            "_view_name": "StyleView",
            "_model_name": "DescriptionStyleModel",
            "description_width": "",
            "_view_module": "@jupyter-widgets/base",
            "_model_module_version": "1.5.0",
            "_view_count": null,
            "_view_module_version": "1.2.0",
            "_model_module": "@jupyter-widgets/controls"
          }
        },
        "35c6a9b268df46659217aa74b4fefa72": {
          "model_module": "@jupyter-widgets/base",
          "model_name": "LayoutModel",
          "state": {
            "_view_name": "LayoutView",
            "grid_template_rows": null,
            "right": null,
            "justify_content": null,
            "_view_module": "@jupyter-widgets/base",
            "overflow": null,
            "_model_module_version": "1.2.0",
            "_view_count": null,
            "flex_flow": null,
            "width": null,
            "min_width": null,
            "border": null,
            "align_items": null,
            "bottom": null,
            "_model_module": "@jupyter-widgets/base",
            "top": null,
            "grid_column": null,
            "overflow_y": null,
            "overflow_x": null,
            "grid_auto_flow": null,
            "grid_area": null,
            "grid_template_columns": null,
            "flex": null,
            "_model_name": "LayoutModel",
            "justify_items": null,
            "grid_row": null,
            "max_height": null,
            "align_content": null,
            "visibility": null,
            "align_self": null,
            "height": null,
            "min_height": null,
            "padding": null,
            "grid_auto_rows": null,
            "grid_gap": null,
            "max_width": null,
            "order": null,
            "_view_module_version": "1.2.0",
            "grid_template_areas": null,
            "object_position": null,
            "object_fit": null,
            "grid_auto_columns": null,
            "margin": null,
            "display": null,
            "left": null
          }
        },
        "cf73bdc5f97741df8d4cdf287b46dc0e": {
          "model_module": "@jupyter-widgets/controls",
          "model_name": "HBoxModel",
          "state": {
            "_view_name": "HBoxView",
            "_dom_classes": [],
            "_model_name": "HBoxModel",
            "_view_module": "@jupyter-widgets/controls",
            "_model_module_version": "1.5.0",
            "_view_count": null,
            "_view_module_version": "1.5.0",
            "box_style": "",
            "layout": "IPY_MODEL_809bd43f49984bcaa11dcfb2e5b16dc8",
            "_model_module": "@jupyter-widgets/controls",
            "children": [
              "IPY_MODEL_4507971740da4847a0b692a9d583eb07",
              "IPY_MODEL_22b158d35a074602a14112a5fe738c66"
            ]
          }
        },
        "809bd43f49984bcaa11dcfb2e5b16dc8": {
          "model_module": "@jupyter-widgets/base",
          "model_name": "LayoutModel",
          "state": {
            "_view_name": "LayoutView",
            "grid_template_rows": null,
            "right": null,
            "justify_content": null,
            "_view_module": "@jupyter-widgets/base",
            "overflow": null,
            "_model_module_version": "1.2.0",
            "_view_count": null,
            "flex_flow": null,
            "width": null,
            "min_width": null,
            "border": null,
            "align_items": null,
            "bottom": null,
            "_model_module": "@jupyter-widgets/base",
            "top": null,
            "grid_column": null,
            "overflow_y": null,
            "overflow_x": null,
            "grid_auto_flow": null,
            "grid_area": null,
            "grid_template_columns": null,
            "flex": null,
            "_model_name": "LayoutModel",
            "justify_items": null,
            "grid_row": null,
            "max_height": null,
            "align_content": null,
            "visibility": null,
            "align_self": null,
            "height": null,
            "min_height": null,
            "padding": null,
            "grid_auto_rows": null,
            "grid_gap": null,
            "max_width": null,
            "order": null,
            "_view_module_version": "1.2.0",
            "grid_template_areas": null,
            "object_position": null,
            "object_fit": null,
            "grid_auto_columns": null,
            "margin": null,
            "display": null,
            "left": null
          }
        },
        "4507971740da4847a0b692a9d583eb07": {
          "model_module": "@jupyter-widgets/controls",
          "model_name": "FloatProgressModel",
          "state": {
            "_view_name": "ProgressView",
            "style": "IPY_MODEL_b8a7cfe3abc342c5aee74abcd1a3f314",
            "_dom_classes": [],
            "description": "",
            "_model_name": "FloatProgressModel",
            "bar_style": "success",
            "max": 5148,
            "_view_module": "@jupyter-widgets/controls",
            "_model_module_version": "1.5.0",
            "value": 5148,
            "_view_count": null,
            "_view_module_version": "1.5.0",
            "orientation": "horizontal",
            "min": 0,
            "description_tooltip": null,
            "_model_module": "@jupyter-widgets/controls",
            "layout": "IPY_MODEL_4c3ae380f45744e5ac6e8292c095439b"
          }
        },
        "22b158d35a074602a14112a5fe738c66": {
          "model_module": "@jupyter-widgets/controls",
          "model_name": "HTMLModel",
          "state": {
            "_view_name": "HTMLView",
            "style": "IPY_MODEL_01a5cb7cd243403fb94ab777dab9588b",
            "_dom_classes": [],
            "description": "",
            "_model_name": "HTMLModel",
            "placeholder": "​",
            "_view_module": "@jupyter-widgets/controls",
            "_model_module_version": "1.5.0",
            "value": " 6144/? [00:05&lt;00:00, 1046.40it/s]",
            "_view_count": null,
            "_view_module_version": "1.5.0",
            "description_tooltip": null,
            "_model_module": "@jupyter-widgets/controls",
            "layout": "IPY_MODEL_501a273a540c4dcd99024dcec147cffc"
          }
        },
        "b8a7cfe3abc342c5aee74abcd1a3f314": {
          "model_module": "@jupyter-widgets/controls",
          "model_name": "ProgressStyleModel",
          "state": {
            "_view_name": "StyleView",
            "_model_name": "ProgressStyleModel",
            "description_width": "initial",
            "_view_module": "@jupyter-widgets/base",
            "_model_module_version": "1.5.0",
            "_view_count": null,
            "_view_module_version": "1.2.0",
            "bar_color": null,
            "_model_module": "@jupyter-widgets/controls"
          }
        },
        "4c3ae380f45744e5ac6e8292c095439b": {
          "model_module": "@jupyter-widgets/base",
          "model_name": "LayoutModel",
          "state": {
            "_view_name": "LayoutView",
            "grid_template_rows": null,
            "right": null,
            "justify_content": null,
            "_view_module": "@jupyter-widgets/base",
            "overflow": null,
            "_model_module_version": "1.2.0",
            "_view_count": null,
            "flex_flow": null,
            "width": null,
            "min_width": null,
            "border": null,
            "align_items": null,
            "bottom": null,
            "_model_module": "@jupyter-widgets/base",
            "top": null,
            "grid_column": null,
            "overflow_y": null,
            "overflow_x": null,
            "grid_auto_flow": null,
            "grid_area": null,
            "grid_template_columns": null,
            "flex": null,
            "_model_name": "LayoutModel",
            "justify_items": null,
            "grid_row": null,
            "max_height": null,
            "align_content": null,
            "visibility": null,
            "align_self": null,
            "height": null,
            "min_height": null,
            "padding": null,
            "grid_auto_rows": null,
            "grid_gap": null,
            "max_width": null,
            "order": null,
            "_view_module_version": "1.2.0",
            "grid_template_areas": null,
            "object_position": null,
            "object_fit": null,
            "grid_auto_columns": null,
            "margin": null,
            "display": null,
            "left": null
          }
        },
        "01a5cb7cd243403fb94ab777dab9588b": {
          "model_module": "@jupyter-widgets/controls",
          "model_name": "DescriptionStyleModel",
          "state": {
            "_view_name": "StyleView",
            "_model_name": "DescriptionStyleModel",
            "description_width": "",
            "_view_module": "@jupyter-widgets/base",
            "_model_module_version": "1.5.0",
            "_view_count": null,
            "_view_module_version": "1.2.0",
            "_model_module": "@jupyter-widgets/controls"
          }
        },
        "501a273a540c4dcd99024dcec147cffc": {
          "model_module": "@jupyter-widgets/base",
          "model_name": "LayoutModel",
          "state": {
            "_view_name": "LayoutView",
            "grid_template_rows": null,
            "right": null,
            "justify_content": null,
            "_view_module": "@jupyter-widgets/base",
            "overflow": null,
            "_model_module_version": "1.2.0",
            "_view_count": null,
            "flex_flow": null,
            "width": null,
            "min_width": null,
            "border": null,
            "align_items": null,
            "bottom": null,
            "_model_module": "@jupyter-widgets/base",
            "top": null,
            "grid_column": null,
            "overflow_y": null,
            "overflow_x": null,
            "grid_auto_flow": null,
            "grid_area": null,
            "grid_template_columns": null,
            "flex": null,
            "_model_name": "LayoutModel",
            "justify_items": null,
            "grid_row": null,
            "max_height": null,
            "align_content": null,
            "visibility": null,
            "align_self": null,
            "height": null,
            "min_height": null,
            "padding": null,
            "grid_auto_rows": null,
            "grid_gap": null,
            "max_width": null,
            "order": null,
            "_view_module_version": "1.2.0",
            "grid_template_areas": null,
            "object_position": null,
            "object_fit": null,
            "grid_auto_columns": null,
            "margin": null,
            "display": null,
            "left": null
          }
        }
      }
    }
  },
  "cells": [
    {
      "cell_type": "markdown",
      "metadata": {
        "id": "PAkBSdTvq0Cr"
      },
      "source": [
        "<img src='http://sn.nexteinstein.org/wp-content/uploads/sites/12/2016/07/aims_senegal.jpg' />"
      ]
    },
    {
      "cell_type": "markdown",
      "metadata": {
        "id": "TSBZZYqgq2Su"
      },
      "source": [
        "In this notebook you will implement and train a feed-forward neural network using the torch.nn module to solve a multi-class classification problem on a dataset called \"Fashion MNIST\".\n",
        "\n",
        "---\n",
        "\n",
        "***Learning Objectives:***\n",
        "\n",
        "* Understand how to use Pytorch nn module and the sequential container to build a neural network architecture.\n",
        "\n",
        "\n",
        "* Understand how a model is trained using the opitm module and the Autgrad engine and How to evaluate your model.\n",
        "\n",
        "---\n",
        "\n",
        "**Resources that you need to cover before starting**:\n",
        "\n",
        "* Review the Tutorial Notebook.\n",
        "\n",
        "* Read the torch.nn docs: https://pytorch.org/docs/stable/nn.html\n",
        "\n",
        "* Read the article about moving from computing gradient from scratch to useing torch.nn https://pytorch.org/tutorials/beginner/nn_tutorial.html\n",
        "\n",
        "* Read the pytorch offical tutorial on training multi-class classifiers:\n",
        "https://pytorch.org/tutorials/beginner/blitz/cifar10_tutorial.html"
      ]
    },
    {
      "cell_type": "markdown",
      "metadata": {
        "id": "i4ngU0vOrd68"
      },
      "source": [
        "# Setup code (Read first But Don't modify)"
      ]
    },
    {
      "cell_type": "code",
      "metadata": {
        "id": "NljcxD0Estne"
      },
      "source": [
        "import torch\n",
        "import torch.nn as nn\n",
        "import torch.nn.functional as F\n",
        "import torch.optim as optim\n",
        "\n",
        "import torchvision\n",
        "import torchvision.datasets as datasets\n",
        "\n",
        "import matplotlib.pyplot as plt\n",
        "%matplotlib inline"
      ],
      "execution_count": null,
      "outputs": []
    },
    {
      "cell_type": "markdown",
      "metadata": {
        "id": "MygxOwpX-H4f"
      },
      "source": [
        "\n",
        "\n",
        "---\n",
        "\n"
      ]
    },
    {
      "cell_type": "markdown",
      "metadata": {
        "id": "BQKtRDqBz3gT"
      },
      "source": [
        "#### Loading the Data: \n",
        "\n",
        "We will use the Fashion MNIST dataset consisting of 70,000 greyscale images of shape(28x28 flattened to have shape 784) and their labels.\n",
        "\n",
        "The dataset is divided into 60,000 training images and 10,000 test images. The idea is to train a classifier to identify the class value (what type of fashion item it is) given the image (total of **10** classes).\n",
        "\n",
        "We will split the training data into 50,000 training images used to train a model on it, and 10,000 validation images used to tune your choice of hyperparams and model architecture.\n",
        "\n",
        "The last step is to evaluate how well your model classifies the 10,000 test images (will be used to assess your implementation).\n",
        "\n",
        "\n",
        "**The classes are: ['T-shirt/top', 'Trouser', 'Pullover', 'Dress', 'Coat', 'Sandal', 'Shirt', 'Sneaker', 'Bag', 'Ankle boot']**\n",
        "\n",
        "This is how the 10 class images looks like before flattening it:\n",
        "\n",
        "<img src='https://www.googleapis.com/download/storage/v1/b/kaggle-user-content/o/inbox%2F549262%2Fd6f4f6e13fa211c9e773479566d89ac9%2FExample-for-fashion-MNIST-Each-class-is-represented-by-nine-cases.png?generation=1576784453715625&alt=media' />"
      ]
    },
    {
      "cell_type": "markdown",
      "metadata": {
        "id": "JyVLHX__-Jws"
      },
      "source": [
        "\n",
        "\n",
        "---\n",
        "\n"
      ]
    },
    {
      "cell_type": "code",
      "metadata": {
        "id": "mX1jXWxtweco"
      },
      "source": [
        "#get the data\n",
        "\n",
        "def load_data():\n",
        "\n",
        "  #using the dataset module from torchvision\n",
        "  mnist_train_set = datasets.FashionMNIST('data/fashiomnist/', train = True, download = True)\n",
        "  mnist_test_set = datasets.FashionMNIST('data/fashiomnist/', train = False, download = True)\n",
        "\n",
        "  #train data\n",
        "  train_images = mnist_train_set.data.view(-1, 1, 28, 28).float()\n",
        "  train_targets = mnist_train_set.targets\n",
        "\n",
        "  #test data\n",
        "  test_images = mnist_test_set.data.view(-1, 1, 28, 28).float()\n",
        "  y_test = mnist_test_set.targets\n",
        "\n",
        "  #flatten\n",
        "  train_val_input = train_images.clone().reshape(train_images.size(0), -1)/255.0\n",
        "  x_test = test_images.clone().reshape(test_images.size(0), -1)/255.0\n",
        "\n",
        "  # shuffle\n",
        "  N = train_val_input.shape[0]\n",
        "  index = torch.randperm(N)\n",
        "  #train val split\n",
        "  x_train = train_val_input[index][:50000]\n",
        "  y_train = train_targets[index][:50000]\n",
        "\n",
        "  x_val = train_val_input[index][50000:]\n",
        "  y_val = train_targets[index][50000:]\n",
        "\n",
        "  return x_train, y_train, x_val, y_val, x_test, y_test"
      ],
      "execution_count": null,
      "outputs": []
    },
    {
      "cell_type": "code",
      "metadata": {
        "id": "cmO0FsLnYxpJ",
        "colab": {
          "base_uri": "https://localhost:8080/",
          "height": 441,
          "referenced_widgets": [
            "917b977afc4848c0afa6a041ee35d9ca",
            "4637aba9f14b4d01ac859b54a80c196d",
            "1561590a10ba45d8854f3046e6e023c1",
            "e159d292857b47f7bdb7b3f09d1199b4",
            "8762a616766d41059b723ff298b52566",
            "79bc288da6cf46b39db5a32f5aee5b07",
            "209d4a0837c24096be94800d720d222c",
            "682d8d6973434d97a306f20fabe9a40a",
            "e647fc6e342e4053a1a49ef75b18e8c4",
            "d3bd5212db8040cd9de0d0fee2ff79f0",
            "9dd5e299ddef405891a07af115872890",
            "68055c14ba1643aa8b227a36d360a8e8",
            "e54b8d42e5ed49e6a322b810a5d51777",
            "ac1f8be3b703493482532e6d5116d4b0",
            "7c21f5bd1bc94dffa6756195d5a7d7f7",
            "d54c372619464821827f452ce819d0c9",
            "c6e1dbe15d0f45c38e29f77d812f22a9",
            "45c9de447c2148acb7ac6075e3293caa",
            "87f6612d36bb45909fdf9b8c60e38a1c",
            "a1ee1572a2424ff28ad34520f855442d",
            "1255b61d959040c6ab02bfb9c37e497c",
            "fb7b92715c8c4e5f86adabaf11ef7145",
            "6a4578d7185b427385f94739038e4081",
            "35c6a9b268df46659217aa74b4fefa72",
            "cf73bdc5f97741df8d4cdf287b46dc0e",
            "809bd43f49984bcaa11dcfb2e5b16dc8",
            "4507971740da4847a0b692a9d583eb07",
            "22b158d35a074602a14112a5fe738c66",
            "b8a7cfe3abc342c5aee74abcd1a3f314",
            "4c3ae380f45744e5ac6e8292c095439b",
            "01a5cb7cd243403fb94ab777dab9588b",
            "501a273a540c4dcd99024dcec147cffc"
          ]
        },
        "outputId": "bfe41000-0572-4552-c9dd-6a51bc234c9f"
      },
      "source": [
        "x_train, y_train, x_val, y_val, _, __ = load_data()"
      ],
      "execution_count": null,
      "outputs": [
        {
          "output_type": "stream",
          "text": [
            "Downloading http://fashion-mnist.s3-website.eu-central-1.amazonaws.com/train-images-idx3-ubyte.gz to data/fashiomnist/FashionMNIST/raw/train-images-idx3-ubyte.gz\n"
          ],
          "name": "stdout"
        },
        {
          "output_type": "display_data",
          "data": {
            "application/vnd.jupyter.widget-view+json": {
              "model_id": "917b977afc4848c0afa6a041ee35d9ca",
              "version_minor": 0,
              "version_major": 2
            },
            "text/plain": [
              "HBox(children=(FloatProgress(value=0.0, max=26421880.0), HTML(value='')))"
            ]
          },
          "metadata": {
            "tags": []
          }
        },
        {
          "output_type": "stream",
          "text": [
            "\n",
            "Extracting data/fashiomnist/FashionMNIST/raw/train-images-idx3-ubyte.gz to data/fashiomnist/FashionMNIST/raw\n",
            "Downloading http://fashion-mnist.s3-website.eu-central-1.amazonaws.com/train-labels-idx1-ubyte.gz to data/fashiomnist/FashionMNIST/raw/train-labels-idx1-ubyte.gz\n"
          ],
          "name": "stdout"
        },
        {
          "output_type": "display_data",
          "data": {
            "application/vnd.jupyter.widget-view+json": {
              "model_id": "e647fc6e342e4053a1a49ef75b18e8c4",
              "version_minor": 0,
              "version_major": 2
            },
            "text/plain": [
              "HBox(children=(FloatProgress(value=0.0, max=29515.0), HTML(value='')))"
            ]
          },
          "metadata": {
            "tags": []
          }
        },
        {
          "output_type": "stream",
          "text": [
            "\n",
            "Extracting data/fashiomnist/FashionMNIST/raw/train-labels-idx1-ubyte.gz to data/fashiomnist/FashionMNIST/raw\n",
            "Downloading http://fashion-mnist.s3-website.eu-central-1.amazonaws.com/t10k-images-idx3-ubyte.gz to data/fashiomnist/FashionMNIST/raw/t10k-images-idx3-ubyte.gz\n"
          ],
          "name": "stdout"
        },
        {
          "output_type": "display_data",
          "data": {
            "application/vnd.jupyter.widget-view+json": {
              "model_id": "c6e1dbe15d0f45c38e29f77d812f22a9",
              "version_minor": 0,
              "version_major": 2
            },
            "text/plain": [
              "HBox(children=(FloatProgress(value=0.0, max=4422102.0), HTML(value='')))"
            ]
          },
          "metadata": {
            "tags": []
          }
        },
        {
          "output_type": "stream",
          "text": [
            "\n",
            "Extracting data/fashiomnist/FashionMNIST/raw/t10k-images-idx3-ubyte.gz to data/fashiomnist/FashionMNIST/raw\n",
            "Downloading http://fashion-mnist.s3-website.eu-central-1.amazonaws.com/t10k-labels-idx1-ubyte.gz to data/fashiomnist/FashionMNIST/raw/t10k-labels-idx1-ubyte.gz\n"
          ],
          "name": "stdout"
        },
        {
          "output_type": "display_data",
          "data": {
            "application/vnd.jupyter.widget-view+json": {
              "model_id": "cf73bdc5f97741df8d4cdf287b46dc0e",
              "version_minor": 0,
              "version_major": 2
            },
            "text/plain": [
              "HBox(children=(FloatProgress(value=0.0, max=5148.0), HTML(value='')))"
            ]
          },
          "metadata": {
            "tags": []
          }
        },
        {
          "output_type": "stream",
          "text": [
            "\n",
            "Extracting data/fashiomnist/FashionMNIST/raw/t10k-labels-idx1-ubyte.gz to data/fashiomnist/FashionMNIST/raw\n",
            "Processing...\n",
            "Done!\n"
          ],
          "name": "stdout"
        },
        {
          "output_type": "stream",
          "text": [
            "/usr/local/lib/python3.7/dist-packages/torchvision/datasets/mnist.py:479: UserWarning: The given NumPy array is not writeable, and PyTorch does not support non-writeable tensors. This means you can write to the underlying (supposedly non-writeable) NumPy array using the tensor. You may want to copy the array to protect its data or make it writeable before converting it to a tensor. This type of warning will be suppressed for the rest of this program. (Triggered internally at  /pytorch/torch/csrc/utils/tensor_numpy.cpp:143.)\n",
            "  return torch.from_numpy(parsed.astype(m[2], copy=False)).view(*s)\n"
          ],
          "name": "stderr"
        }
      ]
    },
    {
      "cell_type": "code",
      "metadata": {
        "id": "iHajRlnh8ZBe",
        "colab": {
          "base_uri": "https://localhost:8080/"
        },
        "outputId": "52099466-2ab5-41b6-e063-52b09bc95c13"
      },
      "source": [
        "print('train data shape: ', x_train.shape)\n",
        "print('train targets shape: ', y_train.shape)\n",
        "print(' ')\n",
        "print('validation data shape: ', x_val.shape)\n",
        "print('Validation targets shape: ', y_val.shape)"
      ],
      "execution_count": null,
      "outputs": [
        {
          "output_type": "stream",
          "text": [
            "train data shape:  torch.Size([50000, 784])\n",
            "train targets shape:  torch.Size([50000])\n",
            " \n",
            "validation data shape:  torch.Size([10000, 784])\n",
            "Validation targets shape:  torch.Size([10000])\n"
          ],
          "name": "stdout"
        }
      ]
    },
    {
      "cell_type": "markdown",
      "metadata": {
        "id": "1qVF8ZdO-MkE"
      },
      "source": [
        "\n",
        "\n",
        "---\n",
        "\n",
        "\n",
        "\n",
        "---\n",
        "\n"
      ]
    },
    {
      "cell_type": "markdown",
      "metadata": {
        "id": "ZpfIjcho6PIV"
      },
      "source": [
        "#### We will be using gpus to accelerate the training. make sure to change your runtime to use a *gpu*.\n",
        "\n",
        "#### go to Runtime ===> Change Runtime Type ===> Hardware accelerator ===> choose (GPU)\n"
      ]
    },
    {
      "cell_type": "code",
      "metadata": {
        "id": "GA5llWY9te4E",
        "colab": {
          "base_uri": "https://localhost:8080/"
        },
        "outputId": "c07a083b-b5a9-4483-88f0-4918d566b0ed"
      },
      "source": [
        "if torch.cuda.is_available():\n",
        "  device = torch.device('cuda:0')\n",
        "else:\n",
        "  device = torch.device('cpu')\n",
        "  \n",
        "print('using device:', device)"
      ],
      "execution_count": null,
      "outputs": [
        {
          "output_type": "stream",
          "text": [
            "using device: cuda:0\n"
          ],
          "name": "stdout"
        }
      ]
    },
    {
      "cell_type": "markdown",
      "metadata": {
        "id": "HZgAMtBSZHqA"
      },
      "source": [
        "Note that every tensor in pytorch has a **.device** attribute By default it's set to 'cpu' But it can be changed to 'gpu' using the **'.to'** command:"
      ]
    },
    {
      "cell_type": "code",
      "metadata": {
        "id": "La4h7iZnZbiR",
        "colab": {
          "base_uri": "https://localhost:8080/"
        },
        "outputId": "3301082e-78c7-49b2-9ee4-a073cf2ee137"
      },
      "source": [
        "# toy example \n",
        "a = torch.rand(2,3)\n",
        "print(a.device) # by default it's 'cpu'\n",
        "\n",
        "a = a.to(device = device)\n",
        "print(a.device) # should print 'cuda:0'"
      ],
      "execution_count": null,
      "outputs": [
        {
          "output_type": "stream",
          "text": [
            "cpu\n",
            "cuda:0\n"
          ],
          "name": "stdout"
        }
      ]
    },
    {
      "cell_type": "markdown",
      "metadata": {
        "id": "NN2tXNtr9-vX"
      },
      "source": [
        "---\n",
        "---\n",
        "---\n",
        "---\n",
        "---"
      ]
    },
    {
      "cell_type": "markdown",
      "metadata": {
        "id": "Zk-ExNrjaAU5"
      },
      "source": [
        "Now it's your turn to define a model using the **torch.nn.Sequential** container module.\n",
        "\n",
        "Your model should accept an input of shape D = 784 and output 10 numbers represent the probability of belonging to each class.\n",
        "\n",
        "ideally a good model will have at least one hidden layer (or more) followed by non-linear activation functions like (nn.ReLU, nn.Sigmoid ... etc) \n",
        "\n",
        "\n",
        "you can take some help from the docs: \n",
        "https://pytorch.org/docs/stable/generated/torch.nn.Sequential.html "
      ]
    },
    {
      "cell_type": "code",
      "metadata": {
        "id": "2IqWt4DHtf_O"
      },
      "source": [
        "# define a neural network model using the nn.Sequential container\n",
        "\n",
        "D = x_train.shape[1]\n",
        "n_classes = 10\n",
        "h1, h2,h3= 200,100,50\n",
        "# model = nn.Sequential(\n",
        "#           nn.Conv2d(D,28,28),\n",
        "#           nn.ReLU(),\n",
        "#           nn.Conv2d(10),\n",
        "#           nn.ReLU()\n",
        "    \n",
        "#     #your code should be here  \n",
        "\n",
        "# )\n",
        "\n",
        "model= nn.Sequential(\n",
        "    nn.Linear(D,h1),\n",
        "    nn.ReLU(),\n",
        "\n",
        "    nn.Linear(h1,h2),\n",
        "    nn.ReLU(),\n",
        "    nn.Linear(h2,h3),\n",
        "    nn.ReLU(),\n",
        "\n",
        "    nn.Linear(h3, n_classes),\n",
        "    \n",
        ")"
      ],
      "execution_count": null,
      "outputs": []
    },
    {
      "cell_type": "code",
      "metadata": {
        "id": "e7-cOz-vcKM0",
        "colab": {
          "base_uri": "https://localhost:8080/"
        },
        "outputId": "c548c99d-95e1-4827-e681-73bdb13a0726"
      },
      "source": [
        "print(model) #Run this when you finish defining your model"
      ],
      "execution_count": null,
      "outputs": [
        {
          "output_type": "stream",
          "text": [
            "Sequential(\n",
            "  (0): Linear(in_features=784, out_features=200, bias=True)\n",
            "  (1): ReLU()\n",
            "  (2): Linear(in_features=200, out_features=100, bias=True)\n",
            "  (3): ReLU()\n",
            "  (4): Linear(in_features=100, out_features=50, bias=True)\n",
            "  (5): ReLU()\n",
            "  (6): Linear(in_features=50, out_features=10, bias=True)\n",
            ")\n"
          ],
          "name": "stdout"
        }
      ]
    },
    {
      "cell_type": "code",
      "metadata": {
        "id": "h4NkC5mRb-go"
      },
      "source": [
        "#Run This cell\n",
        "# it's important to transfer your model to the gpu for faster computations\n",
        "\n",
        "model = model.to(device=device)"
      ],
      "execution_count": null,
      "outputs": []
    },
    {
      "cell_type": "markdown",
      "metadata": {
        "id": "_0hV6tQTcVNt"
      },
      "source": [
        "\n",
        "\n",
        "---\n",
        "\n",
        "\n",
        "---\n",
        "\n",
        "\n",
        "\n",
        "---\n",
        "\n",
        "\n",
        "\n",
        "\n",
        "---\n",
        "\n",
        "\n",
        "\n",
        "---\n",
        "\n"
      ]
    },
    {
      "cell_type": "markdown",
      "metadata": {
        "id": "snZysKgKcekB"
      },
      "source": [
        "Now that we have our model and data ready, we need to train it: \n",
        "\n",
        "But in order to do that we need to define our loss function:\n",
        "\n",
        "luckly pytorch has most loss functions already implemented, for multi-class classification problems, we will be using the cross entroy loss which is basically computing the log softmax of an input followed by computing the negative log liklihood loss.\n",
        "\n",
        "read this for more info on the cross entropy loss: https://en.wikipedia.org/wiki/Cross_entropy\n",
        "\n",
        "also check the pytorch definition of it: https://pytorch.org/docs/stable/generated/torch.nn.CrossEntropyLoss.html (**important**)"
      ]
    },
    {
      "cell_type": "code",
      "metadata": {
        "id": "lM_r6ITEwfov"
      },
      "source": [
        "#run this cell\n",
        "\n",
        "criterion = nn.CrossEntropyLoss()"
      ],
      "execution_count": null,
      "outputs": []
    },
    {
      "cell_type": "markdown",
      "metadata": {
        "id": "QVQiq0zveZQj"
      },
      "source": [
        "\n",
        "\n",
        "---\n",
        "\n",
        "\n",
        "\n",
        "---\n",
        "\n",
        "\n",
        "\n",
        "\n",
        "\n",
        "---\n",
        "\n",
        "\n",
        "\n",
        "---\n",
        "\n",
        "\n",
        "\n",
        "---\n",
        "\n"
      ]
    },
    {
      "cell_type": "markdown",
      "metadata": {
        "id": "ce7Wdomjejk9"
      },
      "source": [
        "Another important step in training any model is to update it's weights and biases, and for that we need an optimization algorithm like Gradient decsent, Luckily in pytorch most optimization algorithms are implemented in the torch.optim module, and for this assignment we will be using the optim.SGD But you are free to look into more optim in the doc: https://pytorch.org/docs/stable/optim.html.\n",
        "\n",
        "You need to find suitable values for the learning rate and the momentum value"
      ]
    },
    {
      "cell_type": "code",
      "metadata": {
        "id": "73N2vqTWd_iC"
      },
      "source": [
        "learning_rate = 0.0001   # to be set\n",
        "momentum_value =  0.9   # to be set\n",
        "\n",
        "optimizer = optim.SGD(model.parameters(), lr = learning_rate, momentum = momentum_value)"
      ],
      "execution_count": null,
      "outputs": []
    },
    {
      "cell_type": "markdown",
      "metadata": {
        "id": "Io1LkA5Ufzpp"
      },
      "source": [
        "\n",
        "\n",
        "\n",
        "---\n",
        "\n",
        "\n",
        "\n",
        "---\n",
        "\n",
        "\n",
        "\n",
        "---\n",
        "\n",
        "\n",
        "---\n",
        "\n",
        "\n",
        "\n",
        "---\n",
        "\n"
      ]
    },
    {
      "cell_type": "markdown",
      "metadata": {
        "id": "L0Q9c1eaf3IY"
      },
      "source": [
        "# Now that we have all things set, let's train our model using Automatic differentaition from pytorch. "
      ]
    },
    {
      "cell_type": "code",
      "metadata": {
        "id": "pIUCO2XAwfr2"
      },
      "source": [
        "batch_size = 32       #set your batch size "
      ],
      "execution_count": null,
      "outputs": []
    },
    {
      "cell_type": "code",
      "metadata": {
        "id": "NUa8WLW1gO8k"
      },
      "source": [
        "#Run this cell \n",
        "# it wil set the number of batches for mini batch SGD\n",
        "\n",
        "N = x_train.shape[0]\n",
        "\n",
        "if N % batch_size == 0:\n",
        "  n_batches = int(N / batch_size)\n",
        "else:\n",
        "  n_batches = int(N / batch_size) + 1"
      ],
      "execution_count": null,
      "outputs": []
    },
    {
      "cell_type": "markdown",
      "metadata": {
        "id": "ARNONOwUguAl"
      },
      "source": [
        "\n",
        "\n",
        "---\n",
        "\n",
        "---\n",
        "\n",
        "\n",
        "\n",
        "---\n",
        "\n",
        "\n",
        "\n",
        "---\n",
        "\n",
        "\n",
        "\n"
      ]
    },
    {
      "cell_type": "markdown",
      "metadata": {
        "id": "I1MbG4fFgwBy"
      },
      "source": [
        "# Main Training loop\n",
        "### ToDo: fill in the missing steps\n"
      ]
    },
    {
      "cell_type": "code",
      "metadata": {
        "id": "D5Gd17hRwfvA",
        "colab": {
          "base_uri": "https://localhost:8080/"
        },
        "outputId": "701e7076-4f04-489f-d787-815097886dfc"
      },
      "source": [
        "n_epochs = 100  # set the number of epochs\n",
        "losses = []\n",
        "\n",
        "for epoch in range(n_epochs):\n",
        "  \n",
        "  epoch_loss = 0\n",
        "  \n",
        "  for batch in range(n_batches):\n",
        "    \n",
        "    start = batch * batch_size\n",
        "    end = start + batch_size\n",
        "\n",
        "    train_images = x_train[start:end]\n",
        "    train_labels = y_train[start:end]\n",
        "\n",
        "    train_images = train_images.to(device= device)       # change the device of train_images to gpu\n",
        "    train_labels = train_labels.to(device= device)       # change the device of train_labels to gpu\n",
        "\n",
        "    outputs = model(train_images)      # feed the images totrain_labels the model to get the outputs\n",
        "\n",
        "    loss = criterion(outputs, train_labels)        # compute the loss using the criterion we defined\n",
        "    \n",
        "    epoch_loss += loss.item()\n",
        "    \n",
        "    loss.backward()\n",
        "    # zero the grad\n",
        "    optimizer.step()\n",
        "    # compute the gradient for each weight/bias from the loss\n",
        "    \n",
        "    # update the model parameters\n",
        "    \n",
        "    optimizer.zero_grad()\n",
        "  epoch_loss = epoch_loss/N\n",
        "\n",
        "  print('epoch ==> ', epoch, 'loss ==> ', epoch_loss)\n",
        "\n",
        "  losses.append(epoch_loss)"
      ],
      "execution_count": null,
      "outputs": [
        {
          "output_type": "stream",
          "text": [
            "epoch ==>  0 loss ==>  0.07150523717880249\n",
            "epoch ==>  1 loss ==>  0.06972428874969483\n",
            "epoch ==>  2 loss ==>  0.06452390689134598\n",
            "epoch ==>  3 loss ==>  0.05287180903196335\n",
            "epoch ==>  4 loss ==>  0.04200929523229599\n",
            "epoch ==>  5 loss ==>  0.03618293467402458\n",
            "epoch ==>  6 loss ==>  0.03246610339641571\n",
            "epoch ==>  7 loss ==>  0.029668017748594285\n",
            "epoch ==>  8 loss ==>  0.027609781430959702\n",
            "epoch ==>  9 loss ==>  0.026129707297086715\n",
            "epoch ==>  10 loss ==>  0.02492981540441513\n",
            "epoch ==>  11 loss ==>  0.02384250281870365\n",
            "epoch ==>  12 loss ==>  0.022820404042601584\n",
            "epoch ==>  13 loss ==>  0.02188832062125206\n",
            "epoch ==>  14 loss ==>  0.021076398482322692\n",
            "epoch ==>  15 loss ==>  0.020380893620848654\n",
            "epoch ==>  16 loss ==>  0.0197808282661438\n",
            "epoch ==>  17 loss ==>  0.019256148907244204\n",
            "epoch ==>  18 loss ==>  0.018792005564272404\n",
            "epoch ==>  19 loss ==>  0.018376923999488353\n",
            "epoch ==>  20 loss ==>  0.0180033036968112\n",
            "epoch ==>  21 loss ==>  0.017664329188466072\n",
            "epoch ==>  22 loss ==>  0.017355069582462312\n",
            "epoch ==>  23 loss ==>  0.017069460951983927\n",
            "epoch ==>  24 loss ==>  0.01680537372648716\n",
            "epoch ==>  25 loss ==>  0.016563504109978675\n",
            "epoch ==>  26 loss ==>  0.0163391204226017\n",
            "epoch ==>  27 loss ==>  0.01613086210846901\n",
            "epoch ==>  28 loss ==>  0.01593662879884243\n",
            "epoch ==>  29 loss ==>  0.015754452376067637\n",
            "epoch ==>  30 loss ==>  0.01558374926149845\n",
            "epoch ==>  31 loss ==>  0.015422926505506038\n",
            "epoch ==>  32 loss ==>  0.015270662284493447\n",
            "epoch ==>  33 loss ==>  0.015125312387347222\n",
            "epoch ==>  34 loss ==>  0.014986022789776326\n",
            "epoch ==>  35 loss ==>  0.014853839735090732\n",
            "epoch ==>  36 loss ==>  0.014728197092413903\n",
            "epoch ==>  37 loss ==>  0.014607761116325856\n",
            "epoch ==>  38 loss ==>  0.014492939258813857\n",
            "epoch ==>  39 loss ==>  0.01438249697163701\n",
            "epoch ==>  40 loss ==>  0.014276170872151852\n",
            "epoch ==>  41 loss ==>  0.014173676805198192\n",
            "epoch ==>  42 loss ==>  0.014074031096100807\n",
            "epoch ==>  43 loss ==>  0.013976964020878077\n",
            "epoch ==>  44 loss ==>  0.013882789163440466\n",
            "epoch ==>  45 loss ==>  0.013793102283626795\n",
            "epoch ==>  46 loss ==>  0.013706959837973117\n",
            "epoch ==>  47 loss ==>  0.013624350912719964\n",
            "epoch ==>  48 loss ==>  0.013544316208064556\n",
            "epoch ==>  49 loss ==>  0.013466603792160749\n",
            "epoch ==>  50 loss ==>  0.013391231254041194\n",
            "epoch ==>  51 loss ==>  0.013317718292176723\n",
            "epoch ==>  52 loss ==>  0.013245756849497557\n",
            "epoch ==>  53 loss ==>  0.013175276612490416\n",
            "epoch ==>  54 loss ==>  0.013106544173508882\n",
            "epoch ==>  55 loss ==>  0.013039233043193817\n",
            "epoch ==>  56 loss ==>  0.012972998748272657\n",
            "epoch ==>  57 loss ==>  0.012908282536268235\n",
            "epoch ==>  58 loss ==>  0.012844653127491475\n",
            "epoch ==>  59 loss ==>  0.012782365114539862\n",
            "epoch ==>  60 loss ==>  0.012721399495899677\n",
            "epoch ==>  61 loss ==>  0.012661141060441732\n",
            "epoch ==>  62 loss ==>  0.0126014437392354\n",
            "epoch ==>  63 loss ==>  0.012542933036088943\n",
            "epoch ==>  64 loss ==>  0.012485456392019987\n",
            "epoch ==>  65 loss ==>  0.012428852212503552\n",
            "epoch ==>  66 loss ==>  0.012372995764538645\n",
            "epoch ==>  67 loss ==>  0.012317508058845997\n",
            "epoch ==>  68 loss ==>  0.01226251990005374\n",
            "epoch ==>  69 loss ==>  0.01220914350040257\n",
            "epoch ==>  70 loss ==>  0.012156637473925948\n",
            "epoch ==>  71 loss ==>  0.012104513393417001\n",
            "epoch ==>  72 loss ==>  0.012053151205852628\n",
            "epoch ==>  73 loss ==>  0.01200238427117467\n",
            "epoch ==>  74 loss ==>  0.011952202276363968\n",
            "epoch ==>  75 loss ==>  0.011902695852294564\n",
            "epoch ==>  76 loss ==>  0.011853473459258676\n",
            "epoch ==>  77 loss ==>  0.011804852493479848\n",
            "epoch ==>  78 loss ==>  0.011756805266663431\n",
            "epoch ==>  79 loss ==>  0.011709146659448742\n",
            "epoch ==>  80 loss ==>  0.01166250874556601\n",
            "epoch ==>  81 loss ==>  0.01161645623497665\n",
            "epoch ==>  82 loss ==>  0.011571539422795176\n",
            "epoch ==>  83 loss ==>  0.011526851588189602\n",
            "epoch ==>  84 loss ==>  0.011482816514372825\n",
            "epoch ==>  85 loss ==>  0.011439508661329745\n",
            "epoch ==>  86 loss ==>  0.011396673582717776\n",
            "epoch ==>  87 loss ==>  0.01135420248426497\n",
            "epoch ==>  88 loss ==>  0.011311876288205385\n",
            "epoch ==>  89 loss ==>  0.011270190206617117\n",
            "epoch ==>  90 loss ==>  0.011228902132362127\n",
            "epoch ==>  91 loss ==>  0.01118818481490016\n",
            "epoch ==>  92 loss ==>  0.011147703636214137\n",
            "epoch ==>  93 loss ==>  0.01110765103444457\n",
            "epoch ==>  94 loss ==>  0.011067814226299525\n",
            "epoch ==>  95 loss ==>  0.011028203478232025\n",
            "epoch ==>  96 loss ==>  0.01098926168628037\n",
            "epoch ==>  97 loss ==>  0.010951210254356265\n",
            "epoch ==>  98 loss ==>  0.01091282712675631\n",
            "epoch ==>  99 loss ==>  0.010874628120437265\n"
          ],
          "name": "stdout"
        }
      ]
    },
    {
      "cell_type": "markdown",
      "metadata": {
        "id": "XjV6Vvdwh7YL"
      },
      "source": [
        "## ToDo: use matplot lib to plot the loss"
      ]
    },
    {
      "cell_type": "code",
      "metadata": {
        "id": "G8RV3mWbicLV",
        "colab": {
          "base_uri": "https://localhost:8080/",
          "height": 282
        },
        "outputId": "a0ecbfee-1ef9-44d9-967a-464a32e6ab8a"
      },
      "source": [
        "# Your code should ne here\n",
        "plt.plot(losses)"
      ],
      "execution_count": null,
      "outputs": [
        {
          "output_type": "execute_result",
          "data": {
            "text/plain": [
              "[<matplotlib.lines.Line2D at 0x7fb341f9c0d0>]"
            ]
          },
          "metadata": {
            "tags": []
          },
          "execution_count": 77
        },
        {
          "output_type": "display_data",
          "data": {
            "image/png": "[encoded data removed]",
            "text/plain": [
              "<Figure size 432x288 with 1 Axes>"
            ]
          },
          "metadata": {
            "tags": [],
            "needs_background": "light"
          }
        }
      ]
    },
    {
      "cell_type": "markdown",
      "metadata": {
        "id": "jaTV06M9ifwV"
      },
      "source": [
        "\n",
        "\n",
        "\n",
        "---\n",
        "\n",
        "\n",
        "\n",
        "---\n",
        "\n",
        "\n",
        "\n",
        "---\n",
        "\n",
        "\n",
        "---\n",
        "\n",
        "\n",
        "\n",
        "---\n",
        "\n"
      ]
    },
    {
      "cell_type": "markdown",
      "metadata": {
        "id": "MBTXQJgxinj_"
      },
      "source": [
        "Now that we have trained our model, we need to know how much this model will perform (in term of accuracy) on the validation set.\n",
        "\n",
        "The performance on the validation set should give us a good hint, on how well our model will perform on the test set.\n",
        "\n"
      ]
    },
    {
      "cell_type": "code",
      "metadata": {
        "id": "xtcLb9uASNo4"
      },
      "source": [
        "# Run this cell\n",
        "\n",
        "BS = 256 \n",
        "N_val = x_val.shape[0]\n",
        "\n",
        "if N_val % BS == 0:\n",
        "  n_batches = int(N_val / BS)\n",
        "else:\n",
        "  n_batches = int(N_val / BS) + 1"
      ],
      "execution_count": null,
      "outputs": []
    },
    {
      "cell_type": "markdown",
      "metadata": {
        "id": "BvreKsQVju9z"
      },
      "source": [
        "#### ToDo: fill in the missing lines to compute the accuracy on the test set."
      ]
    },
    {
      "cell_type": "code",
      "metadata": {
        "id": "M8EIkvmIwfxl",
        "colab": {
          "base_uri": "https://localhost:8080/"
        },
        "outputId": "5373de12-ca44-4274-c148-17cda5b13752"
      },
      "source": [
        "correct = 0\n",
        "total = 0\n",
        "# Add the no grad context manager (covered in the tutorial)\n",
        "with torch.no_grad():  \n",
        "  for batch in range(n_batches):\n",
        "    start = batch * BS\n",
        "    end = start + BS\n",
        "    val_images = x_val[start:end]\n",
        "    val_labels = y_val[start:end]\n",
        "    val_images =   val_images.to(device= device)      # change the device of val_images to gpu\n",
        "    val_labels =   val_labels.to(device=device)     # change the device of val_labels to gpu\n",
        "    outputs =  model(val_images)\n",
        "              # feed the val_images to the model to get the outputs\n",
        "    _,predicted = torch.max(outputs,1)       # compute the argmax of the outputs to get the predicted labels\n",
        "        \n",
        "    total += val_labels.size(0)\n",
        "        \n",
        "    correct += (predicted == val_labels).sum().item()\n",
        "\n",
        "  print('Accuracy of the network on the %d test images: %d %%' % (\n",
        "    total, 100 * correct / total))\n"
      ],
      "execution_count": null,
      "outputs": [
        {
          "output_type": "stream",
          "text": [
            "Accuracy of the network on the 10000 test images: 86 %\n"
          ],
          "name": "stdout"
        }
      ]
    },
    {
      "cell_type": "markdown",
      "metadata": {
        "id": "O89dx5apqnal"
      },
      "source": [
        "# You are expected to get good val acc > 70% at least"
      ]
    },
    {
      "cell_type": "markdown",
      "metadata": {
        "id": "UPzjRtH6qtrg"
      },
      "source": [
        "\n",
        "\n",
        "---\n",
        "\n",
        "\n",
        "\n",
        "---\n",
        "\n",
        "\n",
        "\n",
        "---\n",
        "\n"
      ]
    }
  ]
}
